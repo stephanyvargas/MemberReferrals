{
 "cells": [
  {
   "cell_type": "markdown",
   "id": "353af6cf",
   "metadata": {},
   "source": [
    "# Member Referrals analysis\n",
    "\n",
    "The CEO has come to your desk and explained that we want to increase signups from *our \n",
    "referral scheme*. As part of this effort, we are keen to understand at what point in the \n",
    "member lifecycle members refer other people. There are 2 CSV files \n",
    "that contain information on customers and their referral behaviour: \n",
    " \n",
    "● The Customer Info CSV contains information on customers and metadata for each \n",
    "customer. It is a representative sample of the whole customer database \n",
    " \n",
    "● The Referral Info CSV is a log of sign-ups we have received from the referral \n",
    "channel \n",
    " \n",
    "Use this information to answer the questions below: \n",
    " \n",
    "1. When do members refer?  \n",
    "(Try to think about each member lifetime, starting from when they sign-up to Bulb. \n",
    "The number of Bulb members is growing very quickly. A lot of Bulb members have not been with \n",
    "Bulb for very long. Think about how this might affect your conclusions.) \n",
    " \n",
    "2. Does the channel members are acquired from significantly impact how they refer? Do \n",
    "you think we need a larger sample size to be sure? \n",
    " \n",
    "3. We can send an email to members to invite them to refer their friends. We can choose \n",
    "when, and to whom, we send the emails. How would you suggest we proceed? \n"
   ]
  },
  {
   "cell_type": "code",
   "execution_count": 2,
   "id": "56b9822b",
   "metadata": {},
   "outputs": [],
   "source": [
    "#Let's load the data that we have first\n",
    "import pandas as pd\n",
    "\n",
    "customer_info = pd.read_csv('data/180601_Customer_Info.csv')\n",
    "referral_info = pd.read_csv('data/180601_Referrals_Info.csv')"
   ]
  },
  {
   "cell_type": "code",
   "execution_count": 3,
   "id": "8bd1cbb3",
   "metadata": {},
   "outputs": [
    {
     "name": "stdout",
     "output_type": "stream",
     "text": [
      "<class 'pandas.core.frame.DataFrame'>\n",
      "RangeIndex: 1699 entries, 0 to 1698\n",
      "Data columns (total 3 columns):\n",
      " #   Column           Non-Null Count  Dtype \n",
      "---  ------           --------------  ----- \n",
      " 0   customer_id      1699 non-null   int64 \n",
      " 1   sign_up_date     1699 non-null   object\n",
      " 2   sign_up_channel  1699 non-null   object\n",
      "dtypes: int64(1), object(2)\n",
      "memory usage: 39.9+ KB\n"
     ]
    }
   ],
   "source": [
    "customer_info.info()"
   ]
  },
  {
   "cell_type": "code",
   "execution_count": 4,
   "id": "2bf776d3",
   "metadata": {},
   "outputs": [
    {
     "data": {
      "text/html": [
       "<div>\n",
       "<style scoped>\n",
       "    .dataframe tbody tr th:only-of-type {\n",
       "        vertical-align: middle;\n",
       "    }\n",
       "\n",
       "    .dataframe tbody tr th {\n",
       "        vertical-align: top;\n",
       "    }\n",
       "\n",
       "    .dataframe thead th {\n",
       "        text-align: right;\n",
       "    }\n",
       "</style>\n",
       "<table border=\"1\" class=\"dataframe\">\n",
       "  <thead>\n",
       "    <tr style=\"text-align: right;\">\n",
       "      <th></th>\n",
       "      <th>customer_id</th>\n",
       "      <th>sign_up_date</th>\n",
       "      <th>sign_up_channel</th>\n",
       "    </tr>\n",
       "  </thead>\n",
       "  <tbody>\n",
       "    <tr>\n",
       "      <th>1345</th>\n",
       "      <td>1866</td>\n",
       "      <td>2021-04-04</td>\n",
       "      <td>Price Comparison Website</td>\n",
       "    </tr>\n",
       "    <tr>\n",
       "      <th>1235</th>\n",
       "      <td>39</td>\n",
       "      <td>2020-08-08</td>\n",
       "      <td>Bulb Website</td>\n",
       "    </tr>\n",
       "    <tr>\n",
       "      <th>949</th>\n",
       "      <td>2147</td>\n",
       "      <td>2021-01-22</td>\n",
       "      <td>Price Comparison Website</td>\n",
       "    </tr>\n",
       "    <tr>\n",
       "      <th>1182</th>\n",
       "      <td>2724</td>\n",
       "      <td>2021-12-18</td>\n",
       "      <td>Referral</td>\n",
       "    </tr>\n",
       "    <tr>\n",
       "      <th>674</th>\n",
       "      <td>2194</td>\n",
       "      <td>2021-03-08</td>\n",
       "      <td>Price Comparison Website</td>\n",
       "    </tr>\n",
       "  </tbody>\n",
       "</table>\n",
       "</div>"
      ],
      "text/plain": [
       "      customer_id sign_up_date           sign_up_channel\n",
       "1345         1866   2021-04-04  Price Comparison Website\n",
       "1235           39   2020-08-08              Bulb Website\n",
       "949          2147   2021-01-22  Price Comparison Website\n",
       "1182         2724   2021-12-18                  Referral\n",
       "674          2194   2021-03-08  Price Comparison Website"
      ]
     },
     "execution_count": 4,
     "metadata": {},
     "output_type": "execute_result"
    }
   ],
   "source": [
    "customer_info.sample(5)"
   ]
  },
  {
   "cell_type": "code",
   "execution_count": 5,
   "id": "d7aedfcf",
   "metadata": {},
   "outputs": [
    {
     "name": "stdout",
     "output_type": "stream",
     "text": [
      "<class 'pandas.core.frame.DataFrame'>\n",
      "RangeIndex: 1000 entries, 0 to 999\n",
      "Data columns (total 3 columns):\n",
      " #   Column                Non-Null Count  Dtype \n",
      "---  ------                --------------  ----- \n",
      " 0   referral_date         1000 non-null   object\n",
      " 1   referrer_customer_id  1000 non-null   int64 \n",
      " 2   sign_up_customer_id   1000 non-null   int64 \n",
      "dtypes: int64(2), object(1)\n",
      "memory usage: 23.6+ KB\n"
     ]
    }
   ],
   "source": [
    "referral_info.info()"
   ]
  },
  {
   "cell_type": "code",
   "execution_count": 6,
   "id": "27d8b737",
   "metadata": {},
   "outputs": [
    {
     "data": {
      "text/html": [
       "<div>\n",
       "<style scoped>\n",
       "    .dataframe tbody tr th:only-of-type {\n",
       "        vertical-align: middle;\n",
       "    }\n",
       "\n",
       "    .dataframe tbody tr th {\n",
       "        vertical-align: top;\n",
       "    }\n",
       "\n",
       "    .dataframe thead th {\n",
       "        text-align: right;\n",
       "    }\n",
       "</style>\n",
       "<table border=\"1\" class=\"dataframe\">\n",
       "  <thead>\n",
       "    <tr style=\"text-align: right;\">\n",
       "      <th></th>\n",
       "      <th>referral_date</th>\n",
       "      <th>referrer_customer_id</th>\n",
       "      <th>sign_up_customer_id</th>\n",
       "    </tr>\n",
       "  </thead>\n",
       "  <tbody>\n",
       "    <tr>\n",
       "      <th>21</th>\n",
       "      <td>2021-12-01</td>\n",
       "      <td>745</td>\n",
       "      <td>1710</td>\n",
       "    </tr>\n",
       "    <tr>\n",
       "      <th>107</th>\n",
       "      <td>2021-10-08</td>\n",
       "      <td>28</td>\n",
       "      <td>900</td>\n",
       "    </tr>\n",
       "    <tr>\n",
       "      <th>701</th>\n",
       "      <td>2021-08-22</td>\n",
       "      <td>6</td>\n",
       "      <td>1410</td>\n",
       "    </tr>\n",
       "    <tr>\n",
       "      <th>481</th>\n",
       "      <td>2021-07-23</td>\n",
       "      <td>398</td>\n",
       "      <td>1303</td>\n",
       "    </tr>\n",
       "    <tr>\n",
       "      <th>87</th>\n",
       "      <td>2021-04-14</td>\n",
       "      <td>631</td>\n",
       "      <td>1568</td>\n",
       "    </tr>\n",
       "  </tbody>\n",
       "</table>\n",
       "</div>"
      ],
      "text/plain": [
       "    referral_date  referrer_customer_id  sign_up_customer_id\n",
       "21     2021-12-01                   745                 1710\n",
       "107    2021-10-08                    28                  900\n",
       "701    2021-08-22                     6                 1410\n",
       "481    2021-07-23                   398                 1303\n",
       "87     2021-04-14                   631                 1568"
      ]
     },
     "execution_count": 6,
     "metadata": {},
     "output_type": "execute_result"
    }
   ],
   "source": [
    "referral_info.sample(5)"
   ]
  },
  {
   "cell_type": "markdown",
   "id": "499a7bab",
   "metadata": {},
   "source": [
    "## Customer signup histogram"
   ]
  },
  {
   "cell_type": "code",
   "execution_count": 7,
   "id": "dd2ce253",
   "metadata": {},
   "outputs": [
    {
     "name": "stdout",
     "output_type": "stream",
     "text": [
      "<class 'pandas.core.frame.DataFrame'>\n",
      "RangeIndex: 1699 entries, 0 to 1698\n",
      "Data columns (total 3 columns):\n",
      " #   Column           Non-Null Count  Dtype         \n",
      "---  ------           --------------  -----         \n",
      " 0   customer_id      1699 non-null   int64         \n",
      " 1   sign_up_date     1699 non-null   datetime64[ns]\n",
      " 2   sign_up_channel  1699 non-null   object        \n",
      "dtypes: datetime64[ns](1), int64(1), object(1)\n",
      "memory usage: 39.9+ KB\n"
     ]
    }
   ],
   "source": [
    "#set the date data as datetime in pandas\n",
    "customer = customer_info.copy()\n",
    "customer.sign_up_date = pd.to_datetime(customer.sign_up_date)\n",
    "customer.info()"
   ]
  },
  {
   "cell_type": "code",
   "execution_count": 8,
   "id": "017b5ab6",
   "metadata": {},
   "outputs": [
    {
     "name": "stdout",
     "output_type": "stream",
     "text": [
      "<class 'pandas.core.frame.DataFrame'>\n",
      "RangeIndex: 1000 entries, 0 to 999\n",
      "Data columns (total 3 columns):\n",
      " #   Column                Non-Null Count  Dtype         \n",
      "---  ------                --------------  -----         \n",
      " 0   referral_date         1000 non-null   datetime64[ns]\n",
      " 1   referrer_customer_id  1000 non-null   int64         \n",
      " 2   sign_up_customer_id   1000 non-null   int64         \n",
      "dtypes: datetime64[ns](1), int64(2)\n",
      "memory usage: 23.6 KB\n"
     ]
    }
   ],
   "source": [
    "#set the date data as datetime in pandas\n",
    "referral = referral_info.copy()\n",
    "referral.referral_date = pd.to_datetime(referral.referral_date)\n",
    "referral.info()"
   ]
  },
  {
   "cell_type": "code",
   "execution_count": 116,
   "id": "bfbe253b",
   "metadata": {},
   "outputs": [
    {
     "data": {
      "image/png": "[encoded data removed]",
      "text/plain": [
       "<Figure size 800x480 with 1 Axes>"
      ]
     },
     "metadata": {
      "needs_background": "light"
     },
     "output_type": "display_data"
    },
    {
     "data": {
      "image/png": "[encoded data removed]",
      "text/plain": [
       "<Figure size 800x480 with 1 Axes>"
      ]
     },
     "metadata": {
      "needs_background": "light"
     },
     "output_type": "display_data"
    },
    {
     "data": {
      "image/png": "[encoded data removed]",
      "text/plain": [
       "<Figure size 800x480 with 1 Axes>"
      ]
     },
     "metadata": {
      "needs_background": "light"
     },
     "output_type": "display_data"
    }
   ],
   "source": [
    "import seaborn as sns\n",
    "import numpy as np\n",
    "import matplotlib.pyplot as plt\n",
    "\n",
    "signup_channel = np.unique(customer.sign_up_channel)\n",
    "for channel in signup_channel:\n",
    "    plt.figure(figsize=(10, 6), dpi=80)\n",
    "    plt.title(channel)\n",
    "    sns.histplot(data=customer[customer.sign_up_channel==channel], x='sign_up_date', stat=\"density\", common_norm=True)\n",
    "    plt.show()"
   ]
  },
  {
   "cell_type": "code",
   "execution_count": 10,
   "id": "a915c7ed",
   "metadata": {},
   "outputs": [
    {
     "data": {
      "image/png": "[encoded data removed]",
      "text/plain": [
       "<Figure size 800x480 with 1 Axes>"
      ]
     },
     "metadata": {
      "needs_background": "light"
     },
     "output_type": "display_data"
    }
   ],
   "source": [
    "plt.figure(figsize=(10, 6), dpi=80)\n",
    "plt.title('referrals')\n",
    "sns.histplot(data=referral, x='referral_date', stat=\"density\", common_norm=False)\n",
    "plt.show()"
   ]
  },
  {
   "cell_type": "markdown",
   "id": "2262d8e1",
   "metadata": {},
   "source": [
    "- Looks like something interesting happened right after 2021-07, let's check what happened.\n",
    "- We can also check how long does it take for a costumer to refer someone."
   ]
  },
  {
   "cell_type": "markdown",
   "id": "ab81f81b",
   "metadata": {},
   "source": [
    "## How long does it take for a costumer to refer someone"
   ]
  },
  {
   "cell_type": "code",
   "execution_count": 14,
   "id": "3c19ed00",
   "metadata": {},
   "outputs": [
    {
     "data": {
      "text/html": [
       "<div>\n",
       "<style scoped>\n",
       "    .dataframe tbody tr th:only-of-type {\n",
       "        vertical-align: middle;\n",
       "    }\n",
       "\n",
       "    .dataframe tbody tr th {\n",
       "        vertical-align: top;\n",
       "    }\n",
       "\n",
       "    .dataframe thead th {\n",
       "        text-align: right;\n",
       "    }\n",
       "</style>\n",
       "<table border=\"1\" class=\"dataframe\">\n",
       "  <thead>\n",
       "    <tr style=\"text-align: right;\">\n",
       "      <th></th>\n",
       "      <th>referral_date</th>\n",
       "      <th>referrer_customer_id</th>\n",
       "      <th>sign_up_customer_id</th>\n",
       "      <th>customer_id</th>\n",
       "      <th>sign_up_date</th>\n",
       "      <th>sign_up_channel</th>\n",
       "      <th>days_until_referral</th>\n",
       "    </tr>\n",
       "  </thead>\n",
       "  <tbody>\n",
       "    <tr>\n",
       "      <th>644</th>\n",
       "      <td>2020-08-03</td>\n",
       "      <td>150</td>\n",
       "      <td>1025</td>\n",
       "      <td>150</td>\n",
       "      <td>2020-07-06</td>\n",
       "      <td>Bulb Website</td>\n",
       "      <td>28 days</td>\n",
       "    </tr>\n",
       "    <tr>\n",
       "      <th>461</th>\n",
       "      <td>2021-10-04</td>\n",
       "      <td>263</td>\n",
       "      <td>1150</td>\n",
       "      <td>263</td>\n",
       "      <td>2021-05-01</td>\n",
       "      <td>Price Comparison Website</td>\n",
       "      <td>156 days</td>\n",
       "    </tr>\n",
       "    <tr>\n",
       "      <th>470</th>\n",
       "      <td>2021-04-02</td>\n",
       "      <td>57</td>\n",
       "      <td>930</td>\n",
       "      <td>57</td>\n",
       "      <td>2020-10-25</td>\n",
       "      <td>Referral</td>\n",
       "      <td>159 days</td>\n",
       "    </tr>\n",
       "    <tr>\n",
       "      <th>266</th>\n",
       "      <td>2021-08-09</td>\n",
       "      <td>435</td>\n",
       "      <td>1345</td>\n",
       "      <td>435</td>\n",
       "      <td>NaT</td>\n",
       "      <td>NaN</td>\n",
       "      <td>NaT</td>\n",
       "    </tr>\n",
       "    <tr>\n",
       "      <th>528</th>\n",
       "      <td>2021-07-19</td>\n",
       "      <td>705</td>\n",
       "      <td>1655</td>\n",
       "      <td>705</td>\n",
       "      <td>2021-01-31</td>\n",
       "      <td>Bulb Website</td>\n",
       "      <td>169 days</td>\n",
       "    </tr>\n",
       "  </tbody>\n",
       "</table>\n",
       "</div>"
      ],
      "text/plain": [
       "    referral_date  referrer_customer_id  sign_up_customer_id  customer_id  \\\n",
       "644    2020-08-03                   150                 1025          150   \n",
       "461    2021-10-04                   263                 1150          263   \n",
       "470    2021-04-02                    57                  930           57   \n",
       "266    2021-08-09                   435                 1345          435   \n",
       "528    2021-07-19                   705                 1655          705   \n",
       "\n",
       "    sign_up_date           sign_up_channel days_until_referral  \n",
       "644   2020-07-06              Bulb Website             28 days  \n",
       "461   2021-05-01  Price Comparison Website            156 days  \n",
       "470   2020-10-25                  Referral            159 days  \n",
       "266          NaT                       NaN                 NaT  \n",
       "528   2021-01-31              Bulb Website            169 days  "
      ]
     },
     "execution_count": 14,
     "metadata": {},
     "output_type": "execute_result"
    }
   ],
   "source": [
    "referral['customer_id'] = referral.referrer_customer_id\n",
    "merged_df = referral.merge(customer, on='customer_id', how='left')\n",
    "#merged_df.drop('customer_id', inplace=True)\n",
    "merged_df['days_until_referral'] = merged_df.referral_date - merged_df.sign_up_date\n",
    "merged_df.sample(5)"
   ]
  },
  {
   "cell_type": "code",
   "execution_count": 38,
   "id": "26737f48",
   "metadata": {},
   "outputs": [
    {
     "data": {
      "text/plain": [
       "170"
      ]
     },
     "execution_count": 38,
     "metadata": {},
     "output_type": "execute_result"
    }
   ],
   "source": [
    "# Amount of missing data that needs to be either changed or removed.\n",
    "# Remove roughly 10% of the data (1000 data points)\n",
    "merged_df.sign_up_date.isnull().sum()"
   ]
  },
  {
   "cell_type": "code",
   "execution_count": 36,
   "id": "f33888af",
   "metadata": {},
   "outputs": [
    {
     "data": {
      "text/plain": [
       "0"
      ]
     },
     "execution_count": 36,
     "metadata": {},
     "output_type": "execute_result"
    }
   ],
   "source": [
    "merged_df.referral_date.isnull().sum()"
   ]
  },
  {
   "cell_type": "code",
   "execution_count": 46,
   "id": "8baf2675",
   "metadata": {},
   "outputs": [
    {
     "data": {
      "text/html": [
       "<div>\n",
       "<style scoped>\n",
       "    .dataframe tbody tr th:only-of-type {\n",
       "        vertical-align: middle;\n",
       "    }\n",
       "\n",
       "    .dataframe tbody tr th {\n",
       "        vertical-align: top;\n",
       "    }\n",
       "\n",
       "    .dataframe thead th {\n",
       "        text-align: right;\n",
       "    }\n",
       "</style>\n",
       "<table border=\"1\" class=\"dataframe\">\n",
       "  <thead>\n",
       "    <tr style=\"text-align: right;\">\n",
       "      <th></th>\n",
       "      <th>referral_date</th>\n",
       "      <th>referrer_customer_id</th>\n",
       "      <th>sign_up_customer_id</th>\n",
       "      <th>customer_id</th>\n",
       "      <th>sign_up_date</th>\n",
       "      <th>sign_up_channel</th>\n",
       "      <th>days_until_referral</th>\n",
       "    </tr>\n",
       "  </thead>\n",
       "  <tbody>\n",
       "    <tr>\n",
       "      <th>355</th>\n",
       "      <td>2021-06-27</td>\n",
       "      <td>21</td>\n",
       "      <td>892</td>\n",
       "      <td>21</td>\n",
       "      <td>2021-02-27</td>\n",
       "      <td>Referral</td>\n",
       "      <td>120 days</td>\n",
       "    </tr>\n",
       "    <tr>\n",
       "      <th>763</th>\n",
       "      <td>2021-03-15</td>\n",
       "      <td>609</td>\n",
       "      <td>1545</td>\n",
       "      <td>609</td>\n",
       "      <td>2020-09-05</td>\n",
       "      <td>Price Comparison Website</td>\n",
       "      <td>191 days</td>\n",
       "    </tr>\n",
       "    <tr>\n",
       "      <th>731</th>\n",
       "      <td>2021-08-03</td>\n",
       "      <td>312</td>\n",
       "      <td>1205</td>\n",
       "      <td>312</td>\n",
       "      <td>2021-02-23</td>\n",
       "      <td>Referral</td>\n",
       "      <td>161 days</td>\n",
       "    </tr>\n",
       "    <tr>\n",
       "      <th>445</th>\n",
       "      <td>2021-04-11</td>\n",
       "      <td>165</td>\n",
       "      <td>1041</td>\n",
       "      <td>165</td>\n",
       "      <td>2021-04-02</td>\n",
       "      <td>Referral</td>\n",
       "      <td>9 days</td>\n",
       "    </tr>\n",
       "    <tr>\n",
       "      <th>58</th>\n",
       "      <td>2021-07-24</td>\n",
       "      <td>271</td>\n",
       "      <td>1158</td>\n",
       "      <td>271</td>\n",
       "      <td>2021-07-24</td>\n",
       "      <td>Referral</td>\n",
       "      <td>0 days</td>\n",
       "    </tr>\n",
       "  </tbody>\n",
       "</table>\n",
       "</div>"
      ],
      "text/plain": [
       "    referral_date  referrer_customer_id  sign_up_customer_id  customer_id  \\\n",
       "355    2021-06-27                    21                  892           21   \n",
       "763    2021-03-15                   609                 1545          609   \n",
       "731    2021-08-03                   312                 1205          312   \n",
       "445    2021-04-11                   165                 1041          165   \n",
       "58     2021-07-24                   271                 1158          271   \n",
       "\n",
       "    sign_up_date           sign_up_channel days_until_referral  \n",
       "355   2021-02-27                  Referral            120 days  \n",
       "763   2020-09-05  Price Comparison Website            191 days  \n",
       "731   2021-02-23                  Referral            161 days  \n",
       "445   2021-04-02                  Referral              9 days  \n",
       "58    2021-07-24                  Referral              0 days  "
      ]
     },
     "execution_count": 46,
     "metadata": {},
     "output_type": "execute_result"
    }
   ],
   "source": [
    "filtered_df = merged_df[~merged_df.sign_up_date.isnull()]\n",
    "filtered_df.sample(5)"
   ]
  },
  {
   "cell_type": "code",
   "execution_count": 84,
   "id": "ae69dbb5",
   "metadata": {},
   "outputs": [
    {
     "data": {
      "text/html": [
       "<div>\n",
       "<style scoped>\n",
       "    .dataframe tbody tr th:only-of-type {\n",
       "        vertical-align: middle;\n",
       "    }\n",
       "\n",
       "    .dataframe tbody tr th {\n",
       "        vertical-align: top;\n",
       "    }\n",
       "\n",
       "    .dataframe thead th {\n",
       "        text-align: right;\n",
       "    }\n",
       "</style>\n",
       "<table border=\"1\" class=\"dataframe\">\n",
       "  <thead>\n",
       "    <tr style=\"text-align: right;\">\n",
       "      <th></th>\n",
       "      <th>referral_date</th>\n",
       "      <th>referrer_customer_id</th>\n",
       "      <th>sign_up_customer_id</th>\n",
       "      <th>customer_id</th>\n",
       "      <th>sign_up_date</th>\n",
       "      <th>sign_up_channel</th>\n",
       "      <th>days_until_referral</th>\n",
       "    </tr>\n",
       "  </thead>\n",
       "  <tbody>\n",
       "    <tr>\n",
       "      <th>0</th>\n",
       "      <td>2021-07-18</td>\n",
       "      <td>795</td>\n",
       "      <td>1771</td>\n",
       "      <td>795</td>\n",
       "      <td>2021-03-03</td>\n",
       "      <td>Price Comparison Website</td>\n",
       "      <td>137 days</td>\n",
       "    </tr>\n",
       "    <tr>\n",
       "      <th>1</th>\n",
       "      <td>2021-04-12</td>\n",
       "      <td>577</td>\n",
       "      <td>1510</td>\n",
       "      <td>577</td>\n",
       "      <td>2021-03-28</td>\n",
       "      <td>Price Comparison Website</td>\n",
       "      <td>15 days</td>\n",
       "    </tr>\n",
       "    <tr>\n",
       "      <th>2</th>\n",
       "      <td>2021-07-07</td>\n",
       "      <td>868</td>\n",
       "      <td>1858</td>\n",
       "      <td>868</td>\n",
       "      <td>2021-03-07</td>\n",
       "      <td>Bulb Website</td>\n",
       "      <td>122 days</td>\n",
       "    </tr>\n",
       "    <tr>\n",
       "      <th>3</th>\n",
       "      <td>2021-10-25</td>\n",
       "      <td>801</td>\n",
       "      <td>1778</td>\n",
       "      <td>801</td>\n",
       "      <td>2021-04-30</td>\n",
       "      <td>Referral</td>\n",
       "      <td>178 days</td>\n",
       "    </tr>\n",
       "    <tr>\n",
       "      <th>4</th>\n",
       "      <td>2021-08-15</td>\n",
       "      <td>690</td>\n",
       "      <td>1637</td>\n",
       "      <td>690</td>\n",
       "      <td>2021-07-29</td>\n",
       "      <td>Price Comparison Website</td>\n",
       "      <td>17 days</td>\n",
       "    </tr>\n",
       "    <tr>\n",
       "      <th>...</th>\n",
       "      <td>...</td>\n",
       "      <td>...</td>\n",
       "      <td>...</td>\n",
       "      <td>...</td>\n",
       "      <td>...</td>\n",
       "      <td>...</td>\n",
       "      <td>...</td>\n",
       "    </tr>\n",
       "    <tr>\n",
       "      <th>996</th>\n",
       "      <td>2021-07-17</td>\n",
       "      <td>448</td>\n",
       "      <td>1359</td>\n",
       "      <td>448</td>\n",
       "      <td>2021-05-27</td>\n",
       "      <td>Referral</td>\n",
       "      <td>51 days</td>\n",
       "    </tr>\n",
       "    <tr>\n",
       "      <th>997</th>\n",
       "      <td>2021-07-17</td>\n",
       "      <td>812</td>\n",
       "      <td>1789</td>\n",
       "      <td>812</td>\n",
       "      <td>2021-05-02</td>\n",
       "      <td>Price Comparison Website</td>\n",
       "      <td>76 days</td>\n",
       "    </tr>\n",
       "    <tr>\n",
       "      <th>998</th>\n",
       "      <td>2021-12-15</td>\n",
       "      <td>156</td>\n",
       "      <td>1031</td>\n",
       "      <td>156</td>\n",
       "      <td>2021-03-02</td>\n",
       "      <td>Bulb Website</td>\n",
       "      <td>288 days</td>\n",
       "    </tr>\n",
       "    <tr>\n",
       "      <th>999</th>\n",
       "      <td>2021-07-20</td>\n",
       "      <td>601</td>\n",
       "      <td>1537</td>\n",
       "      <td>601</td>\n",
       "      <td>2021-04-18</td>\n",
       "      <td>Bulb Website</td>\n",
       "      <td>93 days</td>\n",
       "    </tr>\n",
       "    <tr>\n",
       "      <th>1001</th>\n",
       "      <td>2021-09-04</td>\n",
       "      <td>55</td>\n",
       "      <td>928</td>\n",
       "      <td>55</td>\n",
       "      <td>2021-06-19</td>\n",
       "      <td>Referral</td>\n",
       "      <td>77 days</td>\n",
       "    </tr>\n",
       "  </tbody>\n",
       "</table>\n",
       "<p>832 rows × 7 columns</p>\n",
       "</div>"
      ],
      "text/plain": [
       "     referral_date  referrer_customer_id  sign_up_customer_id  customer_id  \\\n",
       "0       2021-07-18                   795                 1771          795   \n",
       "1       2021-04-12                   577                 1510          577   \n",
       "2       2021-07-07                   868                 1858          868   \n",
       "3       2021-10-25                   801                 1778          801   \n",
       "4       2021-08-15                   690                 1637          690   \n",
       "...            ...                   ...                  ...          ...   \n",
       "996     2021-07-17                   448                 1359          448   \n",
       "997     2021-07-17                   812                 1789          812   \n",
       "998     2021-12-15                   156                 1031          156   \n",
       "999     2021-07-20                   601                 1537          601   \n",
       "1001    2021-09-04                    55                  928           55   \n",
       "\n",
       "     sign_up_date           sign_up_channel days_until_referral  \n",
       "0      2021-03-03  Price Comparison Website            137 days  \n",
       "1      2021-03-28  Price Comparison Website             15 days  \n",
       "2      2021-03-07              Bulb Website            122 days  \n",
       "3      2021-04-30                  Referral            178 days  \n",
       "4      2021-07-29  Price Comparison Website             17 days  \n",
       "...           ...                       ...                 ...  \n",
       "996    2021-05-27                  Referral             51 days  \n",
       "997    2021-05-02  Price Comparison Website             76 days  \n",
       "998    2021-03-02              Bulb Website            288 days  \n",
       "999    2021-04-18              Bulb Website             93 days  \n",
       "1001   2021-06-19                  Referral             77 days  \n",
       "\n",
       "[832 rows x 7 columns]"
      ]
     },
     "execution_count": 84,
     "metadata": {},
     "output_type": "execute_result"
    }
   ],
   "source": [
    "filtered_df[np.isfinite(filtered_df['days_until_referral'])]"
   ]
  },
  {
   "cell_type": "code",
   "execution_count": 47,
   "id": "3f5a8eb4",
   "metadata": {},
   "outputs": [
    {
     "data": {
      "text/html": [
       "<div>\n",
       "<style scoped>\n",
       "    .dataframe tbody tr th:only-of-type {\n",
       "        vertical-align: middle;\n",
       "    }\n",
       "\n",
       "    .dataframe tbody tr th {\n",
       "        vertical-align: top;\n",
       "    }\n",
       "\n",
       "    .dataframe thead th {\n",
       "        text-align: right;\n",
       "    }\n",
       "</style>\n",
       "<table border=\"1\" class=\"dataframe\">\n",
       "  <thead>\n",
       "    <tr style=\"text-align: right;\">\n",
       "      <th></th>\n",
       "      <th>referrer_customer_id</th>\n",
       "      <th>sign_up_customer_id</th>\n",
       "      <th>customer_id</th>\n",
       "      <th>days_until_referral</th>\n",
       "    </tr>\n",
       "  </thead>\n",
       "  <tbody>\n",
       "    <tr>\n",
       "      <th>count</th>\n",
       "      <td>832.000000</td>\n",
       "      <td>832.000000</td>\n",
       "      <td>832.000000</td>\n",
       "      <td>832</td>\n",
       "    </tr>\n",
       "    <tr>\n",
       "      <th>mean</th>\n",
       "      <td>380.856971</td>\n",
       "      <td>1353.899038</td>\n",
       "      <td>380.856971</td>\n",
       "      <td>113 days 15:41:32.307692308</td>\n",
       "    </tr>\n",
       "    <tr>\n",
       "      <th>std</th>\n",
       "      <td>265.374462</td>\n",
       "      <td>296.568764</td>\n",
       "      <td>265.374462</td>\n",
       "      <td>112 days 23:54:37.641742844</td>\n",
       "    </tr>\n",
       "    <tr>\n",
       "      <th>min</th>\n",
       "      <td>0.000000</td>\n",
       "      <td>260.000000</td>\n",
       "      <td>0.000000</td>\n",
       "      <td>0 days 00:00:00</td>\n",
       "    </tr>\n",
       "    <tr>\n",
       "      <th>25%</th>\n",
       "      <td>140.000000</td>\n",
       "      <td>1106.750000</td>\n",
       "      <td>140.000000</td>\n",
       "      <td>24 days 00:00:00</td>\n",
       "    </tr>\n",
       "    <tr>\n",
       "      <th>50%</th>\n",
       "      <td>355.500000</td>\n",
       "      <td>1352.500000</td>\n",
       "      <td>355.500000</td>\n",
       "      <td>83 days 12:00:00</td>\n",
       "    </tr>\n",
       "    <tr>\n",
       "      <th>75%</th>\n",
       "      <td>612.250000</td>\n",
       "      <td>1613.250000</td>\n",
       "      <td>612.250000</td>\n",
       "      <td>167 days 06:00:00</td>\n",
       "    </tr>\n",
       "    <tr>\n",
       "      <th>max</th>\n",
       "      <td>868.000000</td>\n",
       "      <td>1859.000000</td>\n",
       "      <td>868.000000</td>\n",
       "      <td>700 days 00:00:00</td>\n",
       "    </tr>\n",
       "  </tbody>\n",
       "</table>\n",
       "</div>"
      ],
      "text/plain": [
       "       referrer_customer_id  sign_up_customer_id  customer_id  \\\n",
       "count            832.000000           832.000000   832.000000   \n",
       "mean             380.856971          1353.899038   380.856971   \n",
       "std              265.374462           296.568764   265.374462   \n",
       "min                0.000000           260.000000     0.000000   \n",
       "25%              140.000000          1106.750000   140.000000   \n",
       "50%              355.500000          1352.500000   355.500000   \n",
       "75%              612.250000          1613.250000   612.250000   \n",
       "max              868.000000          1859.000000   868.000000   \n",
       "\n",
       "               days_until_referral  \n",
       "count                          832  \n",
       "mean   113 days 15:41:32.307692308  \n",
       "std    112 days 23:54:37.641742844  \n",
       "min                0 days 00:00:00  \n",
       "25%               24 days 00:00:00  \n",
       "50%               83 days 12:00:00  \n",
       "75%              167 days 06:00:00  \n",
       "max              700 days 00:00:00  "
      ]
     },
     "execution_count": 47,
     "metadata": {},
     "output_type": "execute_result"
    }
   ],
   "source": [
    "filtered_df.describe()"
   ]
  },
  {
   "cell_type": "markdown",
   "id": "af89df09",
   "metadata": {},
   "source": [
    "Users in average refer in 113 days. The first percentile (25%) of referral time since sign up is less than a month. The second percentile (50%) for referral is almost 3 months and the last percentile (75%) is 5-6 months. "
   ]
  },
  {
   "cell_type": "code",
   "execution_count": 77,
   "id": "2cf9a167",
   "metadata": {},
   "outputs": [
    {
     "data": {
      "text/plain": [
       "<AxesSubplot:xlabel='days_until_referral', ylabel='Count'>"
      ]
     },
     "execution_count": 77,
     "metadata": {},
     "output_type": "execute_result"
    },
    {
     "data": {
      "image/png": "[encoded data removed]",
      "text/plain": [
       "<Figure size 432x288 with 1 Axes>"
      ]
     },
     "metadata": {
      "needs_background": "light"
     },
     "output_type": "display_data"
    }
   ],
   "source": [
    "sns.histplot(filtered_df[\"days_until_referral\"].dt.days, kde=True)"
   ]
  },
  {
   "cell_type": "code",
   "execution_count": 100,
   "id": "2e6ec027",
   "metadata": {},
   "outputs": [
    {
     "data": {
      "text/plain": [
       "<AxesSubplot:xlabel='days_until_referral', ylabel='Count'>"
      ]
     },
     "execution_count": 100,
     "metadata": {},
     "output_type": "execute_result"
    },
    {
     "data": {
      "image/png": "[encoded data removed]",
      "text/plain": [
       "<Figure size 432x288 with 1 Axes>"
      ]
     },
     "metadata": {
      "needs_background": "light"
     },
     "output_type": "display_data"
    }
   ],
   "source": [
    "sns.histplot(filtered_df[\"days_until_referral\"].dt.days, bins=np.linspace(0,100, 101))"
   ]
  },
  {
   "cell_type": "markdown",
   "id": "80005502",
   "metadata": {},
   "source": [
    "1. **When do members refer?**\n",
    "(Try to think about each member lifetime, starting from when they sign-up to Bulb. The number of Bulb members is growing very quickly. A lot of Bulb members have not been with Bulb for very long. Think about how this might affect your conclusions.)\n",
    "\n",
    "From the previous plot, we can conclude that clients tend to use the referral system mostly right after signing up, being the most important the first week."
   ]
  },
  {
   "cell_type": "markdown",
   "id": "fa8b1e20",
   "metadata": {},
   "source": [
    "2. Does the channel members are acquired from significantly impact how they refer? Do you think we need a larger sample size to be sure?"
   ]
  },
  {
   "cell_type": "code",
   "execution_count": 123,
   "id": "d89d788d",
   "metadata": {},
   "outputs": [
    {
     "data": {
      "image/png": "[encoded data removed]",
      "text/plain": [
       "<Figure size 800x480 with 1 Axes>"
      ]
     },
     "metadata": {
      "needs_background": "light"
     },
     "output_type": "display_data"
    }
   ],
   "source": [
    "plt.figure(figsize=(10, 6), dpi=80)\n",
    "plt.title('all the channels')\n",
    "sns.histplot(data=customer, x='sign_up_date', hue='sign_up_channel', element=\"step\", kde=True)\n",
    "plt.show()"
   ]
  },
  {
   "cell_type": "markdown",
   "id": "62d02f9c",
   "metadata": {},
   "source": [
    "* Looks like customers have a tendency to sign up due to a price comparison websites, meanwhile the tendency of sign up due to referrals has had a tendency to decline. Nevertheless, the data is non-conclusive, more data need to be collected to have a full view of what is happening in the market.\n",
    "\n",
    "* As for users that refer, depending how they sign up we have:"
   ]
  },
  {
   "cell_type": "code",
   "execution_count": 193,
   "id": "c4dec1cd",
   "metadata": {},
   "outputs": [
    {
     "data": {
      "text/html": [
       "<div>\n",
       "<style scoped>\n",
       "    .dataframe tbody tr th:only-of-type {\n",
       "        vertical-align: middle;\n",
       "    }\n",
       "\n",
       "    .dataframe tbody tr th {\n",
       "        vertical-align: top;\n",
       "    }\n",
       "\n",
       "    .dataframe thead th {\n",
       "        text-align: right;\n",
       "    }\n",
       "</style>\n",
       "<table border=\"1\" class=\"dataframe\">\n",
       "  <thead>\n",
       "    <tr style=\"text-align: right;\">\n",
       "      <th></th>\n",
       "      <th></th>\n",
       "      <th>times_referred</th>\n",
       "    </tr>\n",
       "    <tr>\n",
       "      <th>sign_up_channel</th>\n",
       "      <th>customer_id</th>\n",
       "      <th></th>\n",
       "    </tr>\n",
       "  </thead>\n",
       "  <tbody>\n",
       "    <tr>\n",
       "      <th>Bulb Website</th>\n",
       "      <th>8</th>\n",
       "      <td>34</td>\n",
       "    </tr>\n",
       "    <tr>\n",
       "      <th rowspan=\"4\" valign=\"top\">Referral</th>\n",
       "      <th>6</th>\n",
       "      <td>11</td>\n",
       "    </tr>\n",
       "    <tr>\n",
       "      <th>10</th>\n",
       "      <td>9</td>\n",
       "    </tr>\n",
       "    <tr>\n",
       "      <th>36</th>\n",
       "      <td>9</td>\n",
       "    </tr>\n",
       "    <tr>\n",
       "      <th>37</th>\n",
       "      <td>8</td>\n",
       "    </tr>\n",
       "    <tr>\n",
       "      <th>...</th>\n",
       "      <th>...</th>\n",
       "      <td>...</td>\n",
       "    </tr>\n",
       "    <tr>\n",
       "      <th rowspan=\"4\" valign=\"top\">Price Comparison Website</th>\n",
       "      <th>391</th>\n",
       "      <td>1</td>\n",
       "    </tr>\n",
       "    <tr>\n",
       "      <th>395</th>\n",
       "      <td>1</td>\n",
       "    </tr>\n",
       "    <tr>\n",
       "      <th>397</th>\n",
       "      <td>1</td>\n",
       "    </tr>\n",
       "    <tr>\n",
       "      <th>401</th>\n",
       "      <td>1</td>\n",
       "    </tr>\n",
       "    <tr>\n",
       "      <th>Referral</th>\n",
       "      <th>864</th>\n",
       "      <td>1</td>\n",
       "    </tr>\n",
       "  </tbody>\n",
       "</table>\n",
       "<p>702 rows × 1 columns</p>\n",
       "</div>"
      ],
      "text/plain": [
       "                                      times_referred\n",
       "sign_up_channel          customer_id                \n",
       "Bulb Website             8                        34\n",
       "Referral                 6                        11\n",
       "                         10                        9\n",
       "                         36                        9\n",
       "                         37                        8\n",
       "...                                              ...\n",
       "Price Comparison Website 391                       1\n",
       "                         395                       1\n",
       "                         397                       1\n",
       "                         401                       1\n",
       "Referral                 864                       1\n",
       "\n",
       "[702 rows x 1 columns]"
      ]
     },
     "execution_count": 193,
     "metadata": {},
     "output_type": "execute_result"
    }
   ],
   "source": [
    "customers_former_signup = pd.DataFrame(filtered_df[['sign_up_channel', 'customer_id']].value_counts(), columns=['times_referred'])\n",
    "customers_former_signup"
   ]
  },
  {
   "cell_type": "markdown",
   "id": "b755a30f",
   "metadata": {},
   "source": [
    "Customer 8 referred 34 times, which is by far greater than other customers."
   ]
  },
  {
   "cell_type": "code",
   "execution_count": 221,
   "id": "eb7ce6cc",
   "metadata": {},
   "outputs": [
    {
     "data": {
      "image/png": "[encoded data removed]",
      "text/plain": [
       "<Figure size 800x400 with 1 Axes>"
      ]
     },
     "metadata": {
      "needs_background": "light"
     },
     "output_type": "display_data"
    }
   ],
   "source": [
    "plt.figure(figsize=(10, 5), dpi=80)\n",
    "customers_former_signup.loc[signup_channel[0]].times_referred.hist(bins=np.linspace(0,5,6), alpha = 0.25, label=signup_channel[0])\n",
    "customers_former_signup.loc[signup_channel[1]].times_referred.hist(bins=np.linspace(0,5,6), alpha = 0.25, label=signup_channel[1])\n",
    "customers_former_signup.loc[signup_channel[2]].times_referred.hist(bins=np.linspace(0,5,6), alpha = 0.25, label=signup_channel[2])\n",
    "plt.legend(loc='best')\n",
    "plt.show()"
   ]
  },
  {
   "cell_type": "code",
   "execution_count": 220,
   "id": "136b0360",
   "metadata": {},
   "outputs": [
    {
     "data": {
      "image/png": "[encoded data removed]",
      "text/plain": [
       "<Figure size 800x400 with 1 Axes>"
      ]
     },
     "metadata": {
      "needs_background": "light"
     },
     "output_type": "display_data"
    }
   ],
   "source": [
    "plt.figure(figsize=(10, 5), dpi=80)\n",
    "customers_former_signup.loc[signup_channel[0]].times_referred.hist(bins=np.linspace(0,5,6), alpha = 0.25, density=True, label=signup_channel[0])\n",
    "customers_former_signup.loc[signup_channel[1]].times_referred.hist(bins=np.linspace(0,5,6), alpha = 0.25, density=True, label=signup_channel[1])\n",
    "customers_former_signup.loc[signup_channel[2]].times_referred.hist(bins=np.linspace(0,5,6), alpha = 0.25, density=True, label=signup_channel[2])\n",
    "plt.legend(loc='best')\n",
    "plt.show()"
   ]
  },
  {
   "cell_type": "markdown",
   "id": "d31eda2f",
   "metadata": {},
   "source": [
    "We have that customers that signed up from referrals have used the referral system the most. But in terms of the density of referrals compared with other channels the difference is very small, i.e., statistical non significant and therefore more data is needed to separate these classes."
   ]
  },
  {
   "cell_type": "markdown",
   "id": "f542ca84",
   "metadata": {},
   "source": [
    "3. We can send an email to members to invite them to refer their friends. We can choose when, and to whom, we send the emails. How would you suggest we proceed?"
   ]
  },
  {
   "cell_type": "markdown",
   "id": "eefc4ec5",
   "metadata": {},
   "source": [
    "From the data that we have examined so far, we have that most people refer on the same day or the following day of their sign up. Therefore, we should advertise the referral system as part of the on-boarding process. The data also signals that customers use the referral system for a couple of months, therefore we can also send emails every month for the next six months to try to get as many people to sign-up as possible."
   ]
  }
 ],
 "metadata": {
  "kernelspec": {
   "display_name": "Python 3 (ipykernel)",
   "language": "python",
   "name": "python3"
  },
  "language_info": {
   "codemirror_mode": {
    "name": "ipython",
    "version": 3
   },
   "file_extension": ".py",
   "mimetype": "text/x-python",
   "name": "python",
   "nbconvert_exporter": "python",
   "pygments_lexer": "ipython3",
   "version": "3.8.12"
  },
  "toc": {
   "base_numbering": 1,
   "nav_menu": {},
   "number_sections": true,
   "sideBar": true,
   "skip_h1_title": false,
   "title_cell": "Table of Contents",
   "title_sidebar": "Contents",
   "toc_cell": false,
   "toc_position": {},
   "toc_section_display": true,
   "toc_window_display": false
  }
 },
 "nbformat": 4,
 "nbformat_minor": 5
}
