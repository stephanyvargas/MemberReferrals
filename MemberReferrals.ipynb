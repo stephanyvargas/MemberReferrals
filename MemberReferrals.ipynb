{
 "cells": [
  {
   "cell_type": "markdown",
   "id": "f3c706ff",
   "metadata": {},
   "source": [
    "# Member Referrals analysis\n",
    "\n",
    "The CEO has come to your desk and explained that we want to increase signups from *our \n",
    "referral scheme*. As part of this effort, we are keen to understand at what point in the \n",
    "member lifecycle members refer other people. There are 2 CSV files \n",
    "that contain information on customers and their referral behaviour: \n",
    " \n",
    "● The Customer Info CSV contains information on customers and metadata for each \n",
    "customer. It is a representative sample of the whole customer database \n",
    " \n",
    "● The Referral Info CSV is a log of sign-ups we have received from the referral \n",
    "channel \n",
    " \n",
    "Use this information to answer the questions below: \n",
    " \n",
    "1. When do members refer?  \n",
    "(Try to think about each member lifetime, starting from when they sign-up to Bulb. \n",
    "The number of Bulb members is growing very quickly. A lot of Bulb members have not been with \n",
    "Bulb for very long. Think about how this might affect your conclusions.) \n",
    " \n",
    "2. Does the channel members are acquired from significantly impact how they refer? Do \n",
    "you think we need a larger sample size to be sure? \n",
    " \n",
    "3. We can send an email to members to invite them to refer their friends. We can choose \n",
    "when, and to whom, we send the emails. How would you suggest we proceed? \n"
   ]
  },
  {
   "cell_type": "code",
   "execution_count": 2,
   "id": "ba73799c",
   "metadata": {},
   "outputs": [],
   "source": [
    "#Let's load the data that we have first\n",
    "import pandas as pd\n",
    "\n",
    "customer_info = pd.read_csv('data/180601_Customer_Info.csv')\n",
    "referral_info = pd.read_csv('data/180601_Referrals_Info.csv')"
   ]
  },
  {
   "cell_type": "code",
   "execution_count": 3,
   "id": "19d08e03",
   "metadata": {},
   "outputs": [
    {
     "name": "stdout",
     "output_type": "stream",
     "text": [
      "<class 'pandas.core.frame.DataFrame'>\n",
      "RangeIndex: 1699 entries, 0 to 1698\n",
      "Data columns (total 3 columns):\n",
      " #   Column           Non-Null Count  Dtype \n",
      "---  ------           --------------  ----- \n",
      " 0   customer_id      1699 non-null   int64 \n",
      " 1   sign_up_date     1699 non-null   object\n",
      " 2   sign_up_channel  1699 non-null   object\n",
      "dtypes: int64(1), object(2)\n",
      "memory usage: 39.9+ KB\n"
     ]
    }
   ],
   "source": [
    "customer_info.info()"
   ]
  },
  {
   "cell_type": "code",
   "execution_count": 5,
   "id": "9c41dd26",
   "metadata": {},
   "outputs": [
    {
     "data": {
      "text/html": [
       "<div>\n",
       "<style scoped>\n",
       "    .dataframe tbody tr th:only-of-type {\n",
       "        vertical-align: middle;\n",
       "    }\n",
       "\n",
       "    .dataframe tbody tr th {\n",
       "        vertical-align: top;\n",
       "    }\n",
       "\n",
       "    .dataframe thead th {\n",
       "        text-align: right;\n",
       "    }\n",
       "</style>\n",
       "<table border=\"1\" class=\"dataframe\">\n",
       "  <thead>\n",
       "    <tr style=\"text-align: right;\">\n",
       "      <th></th>\n",
       "      <th>customer_id</th>\n",
       "      <th>sign_up_date</th>\n",
       "      <th>sign_up_channel</th>\n",
       "    </tr>\n",
       "  </thead>\n",
       "  <tbody>\n",
       "    <tr>\n",
       "      <th>1433</th>\n",
       "      <td>2613</td>\n",
       "      <td>2021-06-28</td>\n",
       "      <td>Price Comparison Website</td>\n",
       "    </tr>\n",
       "    <tr>\n",
       "      <th>1097</th>\n",
       "      <td>2692</td>\n",
       "      <td>2021-08-27</td>\n",
       "      <td>Price Comparison Website</td>\n",
       "    </tr>\n",
       "    <tr>\n",
       "      <th>44</th>\n",
       "      <td>471</td>\n",
       "      <td>2021-07-20</td>\n",
       "      <td>Referral</td>\n",
       "    </tr>\n",
       "    <tr>\n",
       "      <th>1130</th>\n",
       "      <td>2282</td>\n",
       "      <td>2021-07-19</td>\n",
       "      <td>Bulb Website</td>\n",
       "    </tr>\n",
       "    <tr>\n",
       "      <th>813</th>\n",
       "      <td>1860</td>\n",
       "      <td>2021-06-27</td>\n",
       "      <td>Price Comparison Website</td>\n",
       "    </tr>\n",
       "  </tbody>\n",
       "</table>\n",
       "</div>"
      ],
      "text/plain": [
       "      customer_id sign_up_date           sign_up_channel\n",
       "1433         2613   2021-06-28  Price Comparison Website\n",
       "1097         2692   2021-08-27  Price Comparison Website\n",
       "44            471   2021-07-20                  Referral\n",
       "1130         2282   2021-07-19              Bulb Website\n",
       "813          1860   2021-06-27  Price Comparison Website"
      ]
     },
     "execution_count": 5,
     "metadata": {},
     "output_type": "execute_result"
    }
   ],
   "source": [
    "customer_info.sample(5)"
   ]
  },
  {
   "cell_type": "code",
   "execution_count": 6,
   "id": "c57f5606",
   "metadata": {},
   "outputs": [
    {
     "name": "stdout",
     "output_type": "stream",
     "text": [
      "<class 'pandas.core.frame.DataFrame'>\n",
      "RangeIndex: 1000 entries, 0 to 999\n",
      "Data columns (total 3 columns):\n",
      " #   Column                Non-Null Count  Dtype \n",
      "---  ------                --------------  ----- \n",
      " 0   referral_date         1000 non-null   object\n",
      " 1   referrer_customer_id  1000 non-null   int64 \n",
      " 2   sign_up_customer_id   1000 non-null   int64 \n",
      "dtypes: int64(2), object(1)\n",
      "memory usage: 23.6+ KB\n"
     ]
    }
   ],
   "source": [
    "referral_info.info()"
   ]
  },
  {
   "cell_type": "code",
   "execution_count": 7,
   "id": "82360d9f",
   "metadata": {},
   "outputs": [
    {
     "data": {
      "text/html": [
       "<div>\n",
       "<style scoped>\n",
       "    .dataframe tbody tr th:only-of-type {\n",
       "        vertical-align: middle;\n",
       "    }\n",
       "\n",
       "    .dataframe tbody tr th {\n",
       "        vertical-align: top;\n",
       "    }\n",
       "\n",
       "    .dataframe thead th {\n",
       "        text-align: right;\n",
       "    }\n",
       "</style>\n",
       "<table border=\"1\" class=\"dataframe\">\n",
       "  <thead>\n",
       "    <tr style=\"text-align: right;\">\n",
       "      <th></th>\n",
       "      <th>referral_date</th>\n",
       "      <th>referrer_customer_id</th>\n",
       "      <th>sign_up_customer_id</th>\n",
       "    </tr>\n",
       "  </thead>\n",
       "  <tbody>\n",
       "    <tr>\n",
       "      <th>129</th>\n",
       "      <td>2021-06-17</td>\n",
       "      <td>567</td>\n",
       "      <td>1499</td>\n",
       "    </tr>\n",
       "    <tr>\n",
       "      <th>851</th>\n",
       "      <td>2021-06-20</td>\n",
       "      <td>712</td>\n",
       "      <td>1666</td>\n",
       "    </tr>\n",
       "    <tr>\n",
       "      <th>310</th>\n",
       "      <td>2021-07-17</td>\n",
       "      <td>88</td>\n",
       "      <td>962</td>\n",
       "    </tr>\n",
       "    <tr>\n",
       "      <th>49</th>\n",
       "      <td>2021-07-14</td>\n",
       "      <td>6</td>\n",
       "      <td>1034</td>\n",
       "    </tr>\n",
       "    <tr>\n",
       "      <th>328</th>\n",
       "      <td>2021-09-28</td>\n",
       "      <td>370</td>\n",
       "      <td>1269</td>\n",
       "    </tr>\n",
       "  </tbody>\n",
       "</table>\n",
       "</div>"
      ],
      "text/plain": [
       "    referral_date  referrer_customer_id  sign_up_customer_id\n",
       "129    2021-06-17                   567                 1499\n",
       "851    2021-06-20                   712                 1666\n",
       "310    2021-07-17                    88                  962\n",
       "49     2021-07-14                     6                 1034\n",
       "328    2021-09-28                   370                 1269"
      ]
     },
     "execution_count": 7,
     "metadata": {},
     "output_type": "execute_result"
    }
   ],
   "source": [
    "referral_info.sample(5)"
   ]
  },
  {
   "cell_type": "markdown",
   "id": "c206ed86",
   "metadata": {},
   "source": [
    "## Customer signup histogram"
   ]
  },
  {
   "cell_type": "code",
   "execution_count": 12,
   "id": "38fe1b15",
   "metadata": {},
   "outputs": [
    {
     "name": "stdout",
     "output_type": "stream",
     "text": [
      "<class 'pandas.core.frame.DataFrame'>\n",
      "RangeIndex: 1699 entries, 0 to 1698\n",
      "Data columns (total 3 columns):\n",
      " #   Column           Non-Null Count  Dtype         \n",
      "---  ------           --------------  -----         \n",
      " 0   customer_id      1699 non-null   int64         \n",
      " 1   sign_up_date     1699 non-null   datetime64[ns]\n",
      " 2   sign_up_channel  1699 non-null   object        \n",
      "dtypes: datetime64[ns](1), int64(1), object(1)\n",
      "memory usage: 39.9+ KB\n"
     ]
    }
   ],
   "source": [
    "#set the date data as datetime in pandas\n",
    "customer = customer_info.copy()\n",
    "customer.sign_up_date = pd.to_datetime(customer.sign_up_date)\n",
    "customer.info()"
   ]
  },
  {
   "cell_type": "code",
   "execution_count": 14,
   "id": "f12fc036",
   "metadata": {},
   "outputs": [
    {
     "name": "stdout",
     "output_type": "stream",
     "text": [
      "<class 'pandas.core.frame.DataFrame'>\n",
      "RangeIndex: 1000 entries, 0 to 999\n",
      "Data columns (total 3 columns):\n",
      " #   Column                Non-Null Count  Dtype         \n",
      "---  ------                --------------  -----         \n",
      " 0   referral_date         1000 non-null   datetime64[ns]\n",
      " 1   referrer_customer_id  1000 non-null   int64         \n",
      " 2   sign_up_customer_id   1000 non-null   int64         \n",
      "dtypes: datetime64[ns](1), int64(2)\n",
      "memory usage: 23.6 KB\n"
     ]
    }
   ],
   "source": [
    "#set the date data as datetime in pandas\n",
    "referral = referral_info.copy()\n",
    "referral.referral_date = pd.to_datetime(referral.referral_date)\n",
    "referral.info()"
   ]
  },
  {
   "cell_type": "code",
   "execution_count": 34,
   "id": "197133fd",
   "metadata": {},
   "outputs": [
    {
     "data": {
      "image/png": "[encoded data removed]",
      "text/plain": [
       "<Figure size 800x480 with 1 Axes>"
      ]
     },
     "metadata": {
      "needs_background": "light"
     },
     "output_type": "display_data"
    },
    {
     "data": {
      "image/png": "[encoded data removed]",
      "text/plain": [
       "<Figure size 800x480 with 1 Axes>"
      ]
     },
     "metadata": {
      "needs_background": "light"
     },
     "output_type": "display_data"
    },
    {
     "data": {
      "image/png": "[encoded data removed]",
      "text/plain": [
       "<Figure size 800x480 with 1 Axes>"
      ]
     },
     "metadata": {
      "needs_background": "light"
     },
     "output_type": "display_data"
    }
   ],
   "source": [
    "import seaborn as sns\n",
    "import numpy as np\n",
    "import matplotlib.pyplot as plt\n",
    "\n",
    "signup_channel = np.unique(customer.sign_up_channel)\n",
    "for channel in signup_channel:\n",
    "    plt.figure(figsize=(10, 6), dpi=80)\n",
    "    plt.title(channel)\n",
    "    sns.histplot(data=customer[customer.sign_up_channel==channel], x='sign_up_date', stat=\"density\", common_norm=False)\n",
    "    plt.show()"
   ]
  },
  {
   "cell_type": "code",
   "execution_count": 36,
   "id": "e353a93b",
   "metadata": {},
   "outputs": [
    {
     "data": {
      "image/png": "[encoded data removed]",
      "text/plain": [
       "<Figure size 800x480 with 1 Axes>"
      ]
     },
     "metadata": {
      "needs_background": "light"
     },
     "output_type": "display_data"
    }
   ],
   "source": [
    "plt.figure(figsize=(10, 6), dpi=80)\n",
    "plt.title('referrals')\n",
    "sns.histplot(data=referral, x='referral_date', stat=\"density\", common_norm=False)\n",
    "plt.show()"
   ]
  },
  {
   "cell_type": "markdown",
   "id": "00d1a483",
   "metadata": {},
   "source": [
    "Looks like something interesting happened right after 2021-07, let's check what happened.\n",
    "We can also check how long does it take for a costumer to refer someone."
   ]
  },
  {
   "cell_type": "code",
   "execution_count": null,
   "id": "0cfe1a0f",
   "metadata": {},
   "outputs": [],
   "source": []
  },
  {
   "cell_type": "code",
   "execution_count": null,
   "id": "df02211f",
   "metadata": {},
   "outputs": [],
   "source": []
  },
  {
   "cell_type": "code",
   "execution_count": null,
   "id": "b5daaf69",
   "metadata": {},
   "outputs": [],
   "source": []
  },
  {
   "cell_type": "code",
   "execution_count": null,
   "id": "5abca17d",
   "metadata": {},
   "outputs": [],
   "source": []
  }
 ],
 "metadata": {
  "kernelspec": {
   "display_name": "Python 3 (ipykernel)",
   "language": "python",
   "name": "python3"
  },
  "language_info": {
   "codemirror_mode": {
    "name": "ipython",
    "version": 3
   },
   "file_extension": ".py",
   "mimetype": "text/x-python",
   "name": "python",
   "nbconvert_exporter": "python",
   "pygments_lexer": "ipython3",
   "version": "3.8.12"
  },
  "toc": {
   "base_numbering": 1,
   "nav_menu": {},
   "number_sections": true,
   "sideBar": true,
   "skip_h1_title": false,
   "title_cell": "Table of Contents",
   "title_sidebar": "Contents",
   "toc_cell": false,
   "toc_position": {},
   "toc_section_display": true,
   "toc_window_display": false
  }
 },
 "nbformat": 4,
 "nbformat_minor": 5
}
